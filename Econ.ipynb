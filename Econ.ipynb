{
  "nbformat": 4,
  "nbformat_minor": 0,
  "metadata": {
    "colab": {
      "provenance": [],
      "authorship_tag": "ABX9TyOXiHO0qWITwLfeawoXrCWs",
      "include_colab_link": true
    },
    "kernelspec": {
      "name": "python3",
      "display_name": "Python 3"
    },
    "language_info": {
      "name": "python"
    }
  },
  "cells": [
    {
      "cell_type": "markdown",
      "metadata": {
        "id": "view-in-github",
        "colab_type": "text"
      },
      "source": [
        "<a href=\"https://colab.research.google.com/github/Udzf/Israel-Palestine/blob/main/Econ.ipynb\" target=\"_parent\"><img src=\"https://colab.research.google.com/assets/colab-badge.svg\" alt=\"Open In Colab\"/></a>"
      ]
    },
    {
      "cell_type": "markdown",
      "source": [],
      "metadata": {
        "id": "RZH5RqfJCUVa"
      }
    },
    {
      "cell_type": "markdown",
      "source": [
        "# Install and load packages"
      ],
      "metadata": {
        "id": "UKCerXvqCQph"
      }
    },
    {
      "cell_type": "code",
      "source": [
        "!pip install linearmodels\n",
        "!pip install stargazer"
      ],
      "metadata": {
        "colab": {
          "base_uri": "https://localhost:8080/"
        },
        "id": "z3NiQW2YLAim",
        "outputId": "38684953-6c18-4d0e-dae7-56b89a0b1c6b"
      },
      "execution_count": 109,
      "outputs": [
        {
          "output_type": "stream",
          "name": "stdout",
          "text": [
            "Requirement already satisfied: linearmodels in /usr/local/lib/python3.10/dist-packages (6.1)\n",
            "Requirement already satisfied: numpy<3,>=1.22.3 in /usr/local/lib/python3.10/dist-packages (from linearmodels) (1.26.4)\n",
            "Requirement already satisfied: pandas>=1.4.0 in /usr/local/lib/python3.10/dist-packages (from linearmodels) (2.2.2)\n",
            "Requirement already satisfied: scipy>=1.8.0 in /usr/local/lib/python3.10/dist-packages (from linearmodels) (1.13.1)\n",
            "Requirement already satisfied: statsmodels>=0.13.0 in /usr/local/lib/python3.10/dist-packages (from linearmodels) (0.14.4)\n",
            "Requirement already satisfied: mypy-extensions>=0.4 in /usr/local/lib/python3.10/dist-packages (from linearmodels) (1.0.0)\n",
            "Requirement already satisfied: Cython>=3.0.10 in /usr/local/lib/python3.10/dist-packages (from linearmodels) (3.0.11)\n",
            "Requirement already satisfied: pyhdfe>=0.1 in /usr/local/lib/python3.10/dist-packages (from linearmodels) (0.2.0)\n",
            "Requirement already satisfied: formulaic>=1.0.0 in /usr/local/lib/python3.10/dist-packages (from linearmodels) (1.1.1)\n",
            "Requirement already satisfied: setuptools-scm<9.0.0,>=8.0.0 in /usr/local/lib/python3.10/dist-packages (from setuptools-scm[toml]<9.0.0,>=8.0.0->linearmodels) (8.1.0)\n",
            "Requirement already satisfied: interface-meta>=1.2.0 in /usr/local/lib/python3.10/dist-packages (from formulaic>=1.0.0->linearmodels) (1.3.0)\n",
            "Requirement already satisfied: typing-extensions>=4.2.0 in /usr/local/lib/python3.10/dist-packages (from formulaic>=1.0.0->linearmodels) (4.12.2)\n",
            "Requirement already satisfied: wrapt>=1.0 in /usr/local/lib/python3.10/dist-packages (from formulaic>=1.0.0->linearmodels) (1.17.0)\n",
            "Requirement already satisfied: python-dateutil>=2.8.2 in /usr/local/lib/python3.10/dist-packages (from pandas>=1.4.0->linearmodels) (2.8.2)\n",
            "Requirement already satisfied: pytz>=2020.1 in /usr/local/lib/python3.10/dist-packages (from pandas>=1.4.0->linearmodels) (2024.2)\n",
            "Requirement already satisfied: tzdata>=2022.7 in /usr/local/lib/python3.10/dist-packages (from pandas>=1.4.0->linearmodels) (2024.2)\n",
            "Requirement already satisfied: packaging>=20 in /usr/local/lib/python3.10/dist-packages (from setuptools-scm<9.0.0,>=8.0.0->setuptools-scm[toml]<9.0.0,>=8.0.0->linearmodels) (24.2)\n",
            "Requirement already satisfied: setuptools in /usr/local/lib/python3.10/dist-packages (from setuptools-scm<9.0.0,>=8.0.0->setuptools-scm[toml]<9.0.0,>=8.0.0->linearmodels) (75.1.0)\n",
            "Requirement already satisfied: tomli>=1 in /usr/local/lib/python3.10/dist-packages (from setuptools-scm<9.0.0,>=8.0.0->setuptools-scm[toml]<9.0.0,>=8.0.0->linearmodels) (2.2.1)\n",
            "Requirement already satisfied: patsy>=0.5.6 in /usr/local/lib/python3.10/dist-packages (from statsmodels>=0.13.0->linearmodels) (1.0.1)\n",
            "Requirement already satisfied: six>=1.5 in /usr/local/lib/python3.10/dist-packages (from python-dateutil>=2.8.2->pandas>=1.4.0->linearmodels) (1.17.0)\n",
            "Requirement already satisfied: stargazer in /usr/local/lib/python3.10/dist-packages (0.0.7)\n"
          ]
        }
      ]
    },
    {
      "cell_type": "code",
      "source": [
        "import numpy as np\n",
        "import pandas as pd\n",
        "from linearmodels.iv import IV2SLS\n",
        "from stargazer.stargazer import Stargazer"
      ],
      "metadata": {
        "id": "CETO9RtcCKpo"
      },
      "execution_count": 110,
      "outputs": []
    },
    {
      "cell_type": "markdown",
      "source": [
        "# Data preparation"
      ],
      "metadata": {
        "id": "8QcPQd6KCYtn"
      }
    },
    {
      "cell_type": "markdown",
      "source": [
        "## Load data"
      ],
      "metadata": {
        "id": "iqioJ2zQCbec"
      }
    },
    {
      "cell_type": "code",
      "source": [
        "# Load data from github\n",
        "\n",
        "link_replication_file1 = 'https://raw.githubusercontent.com/Udzf/Israel-Palestine/refs/heads/main/replication_file1.csv'\n",
        "link_replication_file2 = 'https://raw.githubusercontent.com/Udzf/Israel-Palestine/refs/heads/main/replication_file2.csv'\n",
        "link_replication_file3 = 'https://raw.githubusercontent.com/Udzf/Israel-Palestine/refs/heads/main/replication_file3.csv'\n",
        "\n",
        "replication_file1 = pd.read_csv(link_replication_file1)\n",
        "replication_file2 = pd.read_csv(link_replication_file2)\n",
        "replication_file3 = pd.read_csv(link_replication_file3)"
      ],
      "metadata": {
        "collapsed": true,
        "id": "vzjShyc5Ce5c"
      },
      "execution_count": 111,
      "outputs": []
    },
    {
      "cell_type": "markdown",
      "source": [
        "# Replication"
      ],
      "metadata": {
        "id": "LHgUcwBRSbx3"
      }
    },
    {
      "cell_type": "markdown",
      "source": [
        "## Table 1"
      ],
      "metadata": {
        "id": "mgeKNJcASe-z"
      }
    },
    {
      "cell_type": "markdown",
      "source": [
        "### Stata code"
      ],
      "metadata": {
        "id": "UuwG2TNCSgVj"
      }
    },
    {
      "cell_type": "code",
      "source": [
        "''' STATA CODE\n",
        "************************************************************************\n",
        "** Table 1. News Pressure and the Length of Conflict-related News\n",
        "************************************************************************\n",
        "\n",
        "use \"$dta/replication_file1.dta\", clear\n",
        "\n",
        "* Panel A: Full sample\n",
        "\n",
        "cap drop sample_deriv\n",
        "xi: ivreg daily_woi (length_conflict_news=high_intensity) i.month i.year i.dow, cluster (monthyear)\n",
        "gen sample_deriv=1 if e(sample)\n",
        "\n",
        "reg length_conflict_news high_intensity i.month i.year i.dow  if sample_deriv==1 , vce(cluster monthyear)\n",
        "test  high_intensity\n",
        "test  high_intensity\n",
        "scalar F_cont=r(F)\n",
        "outreg2 using \"$tables/table_1a.xls\", replace ctitle(\"Length conflict news, 1st stage\") keep(high_intensity) nocons label bdec(3) addstat (\"F excl. instr.\", F_cont)\n",
        "\n",
        "xi: ivreg daily_woi (length_conflict_news = high_intensity) i.month i.year i.dow  , cluster (monthyear)\n",
        "outreg2 using \"$tables/table_1a.xls\", append ctitle(\"NP, 2SLS\") keep(length_conflict_news) nocons label bdec(3) addstat (\"F excl. instr.\", F_cont)\n",
        "\n",
        "xi: ivreg daily_woi_nc (length_conflict_news = high_intensity) i.month i.year i.dow , cluster (monthyear)\n",
        "outreg2 using \"$tables/table_1a.xls\", append ctitle(\"Uncorr NP, 2SLS\") keep(length_conflict_news) nocons label bdec(3) addstat (\"F excl. instr.\", F_cont)\n",
        "\n",
        "* Panel A: Sample of days with an attack on the same day or the previous day\n",
        "\n",
        "cap drop sample_deriv\n",
        "xi: ivreg daily_woi (length_conflict_news=high_intensity) i.month i.year i.dow if  (occurrence_t_y==1 | occurrence_pal_t_y ==1), cluster (monthyear)\n",
        "gen sample_deriv=1 if e(sample)\n",
        "\n",
        "reg length_conflict_news high_intensity i.month i.year i.dow  if sample_deriv==1& (occurrence_t_y==1 | occurrence_pal_t_y ==1) , vce(cluster monthyear)\n",
        "test  high_intensity\n",
        "scalar F_cont=r(F)\n",
        "outreg2 using \"$tables/table_1b.xls\", replace ctitle(\"Length conflict news, 1st stage\") keep(high_intensity) nocons label bdec(3) addstat (\"F excl. instr.\", F_cont)\n",
        "\n",
        "xi: ivreg daily_woi (length_conflict_news = high_intensity) i.month i.year i.dow if  (occurrence_t_y==1 | occurrence_pal_t_y ==1) , cluster (monthyear)\n",
        "outreg2 using \"$tables/table_1b.xls\", append ctitle(\"NP, 2SLS\") keep(length_conflict_news) nocons label bdec(5) addstat (\"F excl. instr.\", F_cont) dec(3)\n",
        "\n",
        "xi: ivreg daily_woi_nc (length_conflict_news = high_intensity) i.month i.year i.dow if  (occurrence_t_y==1 | occurrence_pal_t_y ==1), cluster (monthyear)\n",
        "outreg2 using \"$tables/table_1b.xls\", append ctitle(\"Uncorr NP, 2SLS\") keep(length_conflict_news) nocons label bdec(3) addstat (\"F excl. instr.\", F_cont)\n",
        "'''"
      ],
      "metadata": {
        "colab": {
          "base_uri": "https://localhost:8080/",
          "height": 1000
        },
        "id": "QSJQNzJ9Naq9",
        "outputId": "c6098858-1efd-417a-d6b1-dabac48a6963"
      },
      "execution_count": 112,
      "outputs": [
        {
          "output_type": "execute_result",
          "data": {
            "text/plain": [
              "' STATA CODE\\n************************************************************************\\n** Table 1. News Pressure and the Length of Conflict-related News\\n************************************************************************\\n\\nuse \"$dta/replication_file1.dta\", clear\\n\\n* Panel A: Full sample\\n\\ncap drop sample_deriv\\nxi: ivreg daily_woi (length_conflict_news=high_intensity) i.month i.year i.dow, cluster (monthyear)\\ngen sample_deriv=1 if e(sample)\\n\\nreg length_conflict_news high_intensity i.month i.year i.dow  if sample_deriv==1 , vce(cluster monthyear)\\ntest  high_intensity\\ntest  high_intensity\\nscalar F_cont=r(F)\\noutreg2 using \"$tables/table_1a.xls\", replace ctitle(\"Length conflict news, 1st stage\") keep(high_intensity) nocons label bdec(3) addstat (\"F excl. instr.\", F_cont)\\n\\nxi: ivreg daily_woi (length_conflict_news = high_intensity) i.month i.year i.dow  , cluster (monthyear)\\noutreg2 using \"$tables/table_1a.xls\", append ctitle(\"NP, 2SLS\") keep(length_conflict_news) nocons label bdec(3) addstat (\"F excl. instr.\", F_cont)\\n\\nxi: ivreg daily_woi_nc (length_conflict_news = high_intensity) i.month i.year i.dow , cluster (monthyear)\\noutreg2 using \"$tables/table_1a.xls\", append ctitle(\"Uncorr NP, 2SLS\") keep(length_conflict_news) nocons label bdec(3) addstat (\"F excl. instr.\", F_cont)\\n\\n* Panel A: Sample of days with an attack on the same day or the previous day\\n\\ncap drop sample_deriv\\nxi: ivreg daily_woi (length_conflict_news=high_intensity) i.month i.year i.dow if  (occurrence_t_y==1 | occurrence_pal_t_y ==1), cluster (monthyear)\\ngen sample_deriv=1 if e(sample)\\n\\nreg length_conflict_news high_intensity i.month i.year i.dow  if sample_deriv==1& (occurrence_t_y==1 | occurrence_pal_t_y ==1) , vce(cluster monthyear)\\ntest  high_intensity\\nscalar F_cont=r(F)\\noutreg2 using \"$tables/table_1b.xls\", replace ctitle(\"Length conflict news, 1st stage\") keep(high_intensity) nocons label bdec(3) addstat (\"F excl. instr.\", F_cont)\\n\\nxi: ivreg daily_woi (length_conflict_news = high_intensity) i.month i.year i.dow if  (occurrence_t_y==1 | occurrence_pal_t_y ==1) , cluster (monthyear)\\noutreg2 using \"$tables/table_1b.xls\", append ctitle(\"NP, 2SLS\") keep(length_conflict_news) nocons label bdec(5) addstat (\"F excl. instr.\", F_cont) dec(3)\\n\\nxi: ivreg daily_woi_nc (length_conflict_news = high_intensity) i.month i.year i.dow if  (occurrence_t_y==1 | occurrence_pal_t_y ==1), cluster (monthyear)\\noutreg2 using \"$tables/table_1b.xls\", append ctitle(\"Uncorr NP, 2SLS\") keep(length_conflict_news) nocons label bdec(3) addstat (\"F excl. instr.\", F_cont)\\n'"
            ],
            "application/vnd.google.colaboratory.intrinsic+json": {
              "type": "string"
            }
          },
          "metadata": {},
          "execution_count": 112
        }
      ]
    },
    {
      "cell_type": "markdown",
      "source": [
        "### Python code"
      ],
      "metadata": {
        "id": "S2i7cJmSSjq7"
      }
    },
    {
      "cell_type": "markdown",
      "source": [
        "#### Table 1: A. Full Sample"
      ],
      "metadata": {
        "id": "utdoF7zqUEy9"
      }
    },
    {
      "cell_type": "markdown",
      "source": [
        "##### Creating models"
      ],
      "metadata": {
        "id": "6L7vUx-hqlVS"
      }
    },
    {
      "cell_type": "code",
      "source": [
        "# Data table 1\n",
        "# Drop missing values from the relevant columns\n",
        "data_table_1 = replication_file1.copy()\n",
        "relevant_columns = ['daily_woi', 'daily_woi_nc', 'length_conflict_news', 'high_intensity', 'month', 'year', 'dow', 'monthyear']\n",
        "\n",
        "df = data_table_1[relevant_columns].dropna()\n",
        "\n",
        "import pandas as pd\n",
        "import statsmodels.api as sm\n",
        "import statsmodels.formula.api as smf\n",
        "\n",
        "\n",
        "# Define the first-stage formula\n",
        "first_stage_formula = 'length_conflict_news ~ high_intensity + C(month) + C(year) + C(dow)'\n",
        "\n",
        "# Run the first-stage regression\n",
        "first_stage = smf.ols(first_stage_formula, data=df).fit()\n",
        "\n",
        "# Use the predicted values from the first stage\n",
        "df['length_conflict_news_pred'] = first_stage.predict(df)\n",
        "\n",
        "# Define the second-stage formula (corrected)\n",
        "second_stage_formula_corrected = 'daily_woi ~ length_conflict_news_pred + C(month) + C(year) + C(dow)'\n",
        "\n",
        "# Run the second-stage regression\n",
        "second_stage_corrected = smf.ols(second_stage_formula_corrected, data=df).fit()\n",
        "\n",
        "\n",
        "# Define the second-stage formula\n",
        "second_stage_formula_uncorrected = 'daily_woi_nc ~ length_conflict_news_pred + C(month) + C(year) + C(dow)'\n",
        "\n",
        "# Run the second-stage regression\n",
        "second_stage_uncorrected = smf.ols(second_stage_formula_uncorrected, data=df).fit()\n"
      ],
      "metadata": {
        "id": "OnzyfHfMQGdL"
      },
      "execution_count": 113,
      "outputs": []
    },
    {
      "cell_type": "markdown",
      "source": [
        "##### Displaying Table 1: A"
      ],
      "metadata": {
        "id": "I_GXh43XqoQv"
      }
    },
    {
      "cell_type": "code",
      "source": [
        "stargazer = Stargazer([first_stage, second_stage_corrected, second_stage_uncorrected])\n",
        "\n",
        "# Customize the output as needed\n",
        "stargazer.title(\"Regression Results\")\n",
        "stargazer.covariate_order(['Intercept', 'high_intensity', 'length_conflict_news_pred'])\n",
        "stargazer.custom_columns([\"Length of Conflict News [2SLS 1st stage]\", \"Corrected News Pressure [2SLS 2nd stage]\", \"Uncorrected News Pressure [2SLS 2nd stage]\"], [1, 1, 1])\n",
        "\n",
        "stargazer"
      ],
      "metadata": {
        "colab": {
          "base_uri": "https://localhost:8080/",
          "height": 380
        },
        "id": "sTdAgSMQRq-e",
        "outputId": "4283c608-d7fc-42e8-f7e1-50834c611f42"
      },
      "execution_count": 142,
      "outputs": [
        {
          "output_type": "execute_result",
          "data": {
            "text/plain": [
              "<stargazer.stargazer.Stargazer at 0x794620cb3d90>"
            ],
            "text/html": [
              "Regression Results<br><table style=\"text-align:center\"><tr><td colspan=\"4\" style=\"border-bottom: 1px solid black\"></td></tr>\n",
              "<tr><td style=\"text-align:left\"></td><tr><td></td><td colspan=\"1\">Length of Conflict News [2SLS 1st stage]</td><td colspan=\"1\">Corrected News Pressure [2SLS 2nd stage]</td><td colspan=\"1\">Uncorrected News Pressure [2SLS 2nd stage]</td></tr><tr><td style=\"text-align:left\"></td><td>(1)</td><td>(2)</td><td>(3)</td></tr>\n",
              "<tr><td colspan=\"4\" style=\"border-bottom: 1px solid black\"></td></tr>\n",
              "\n",
              "<tr><td style=\"text-align:left\">Intercept</td><td>-2.870<sup>***</sup></td><td>1.141<sup>***</sup></td><td>1.129<sup>***</sup></td></tr>\n",
              "<tr><td style=\"text-align:left\"></td><td>(0.494)</td><td>(0.039)</td><td>(0.040)</td></tr>\n",
              "<tr><td style=\"text-align:left\">high_intensity</td><td>5.291<sup>***</sup></td><td></td><td></td></tr>\n",
              "<tr><td style=\"text-align:left\"></td><td>(0.247)</td><td></td><td></td></tr>\n",
              "<tr><td style=\"text-align:left\">length_conflict_news_pred</td><td></td><td>0.000<sup></sup></td><td>-0.018<sup>***</sup></td></tr>\n",
              "<tr><td style=\"text-align:left\"></td><td></td><td>(0.004)</td><td>(0.004)</td></tr>\n",
              "\n",
              "<td colspan=\"4\" style=\"border-bottom: 1px solid black\"></td></tr>\n",
              "<tr><td style=\"text-align: left\">Observations</td><td>2331</td><td>2331</td><td>2331</td></tr><tr><td style=\"text-align: left\">R<sup>2</sup></td><td>0.295</td><td>0.133</td><td>0.156</td></tr><tr><td style=\"text-align: left\">Adjusted R<sup>2</sup></td><td>0.286</td><td>0.123</td><td>0.145</td></tr><tr><td style=\"text-align: left\">Residual Std. Error</td><td>2.695 (df=2301)</td><td>0.249 (df=2301)</td><td>0.253 (df=2301)</td></tr><tr><td style=\"text-align: left\">F Statistic</td><td>33.149<sup>***</sup> (df=29; 2301)</td><td>12.219<sup>***</sup> (df=29; 2301)</td><td>14.681<sup>***</sup> (df=29; 2301)</td></tr>\n",
              "<tr><td colspan=\"4\" style=\"border-bottom: 1px solid black\"></td></tr><tr><td style=\"text-align: left\">Note:</td><td colspan=\"3\" style=\"text-align: right\"><sup>*</sup>p&lt;0.1; <sup>**</sup>p&lt;0.05; <sup>***</sup>p&lt;0.01</td></tr></table>"
            ]
          },
          "metadata": {},
          "execution_count": 142
        }
      ]
    },
    {
      "cell_type": "markdown",
      "source": [
        "#### Table 1: B. Sample of Days with an Attack on the Same Day or the Previous Day"
      ],
      "metadata": {
        "id": "vhcRG_waUNE6"
      }
    },
    {
      "cell_type": "markdown",
      "source": [
        "##### Creating models"
      ],
      "metadata": {
        "id": "QJwcpyuKqtzK"
      }
    },
    {
      "cell_type": "code",
      "source": [
        "# Data table 1\n",
        "# Drop missing values from the relevant columns\n",
        "data_table_1 = replication_file1.copy()\n",
        "relevant_columns = ['daily_woi', 'daily_woi_nc', 'length_conflict_news', 'high_intensity', 'month', 'year', 'dow', 'monthyear', 'occurrence_t_y', 'occurrence_pal_t_y' ]\n",
        "df = data_table_1[relevant_columns].dropna()\n",
        "\n",
        "# Restrict sample to only include certain observations\n",
        "df = df[(df['occurrence_t_y'] == 1) | (df['occurrence_pal_t_y'] == 1)].copy()\n",
        "\n",
        "# Define the first-stage formula\n",
        "first_stage_formula = 'length_conflict_news ~ high_intensity + C(month) + C(year) + C(dow)'\n",
        "\n",
        "# Run the first-stage regression\n",
        "first_stage = smf.ols(first_stage_formula, data=df).fit()\n",
        "\n",
        "# Use the predicted values from the first stage\n",
        "df['length_conflict_news_pred'] = first_stage.predict(df)\n",
        "\n",
        "# Define the second-stage formula (corrected)\n",
        "second_stage_formula_corrected = 'daily_woi ~ length_conflict_news_pred + C(month) + C(year) + C(dow)'\n",
        "\n",
        "# Run the second-stage regression\n",
        "second_stage_corrected = smf.ols(second_stage_formula_corrected, data=df).fit()\n",
        "\n",
        "\n",
        "# Define the second-stage formula\n",
        "second_stage_formula_uncorrected = 'daily_woi_nc ~ length_conflict_news_pred + C(month) + C(year) + C(dow)'\n",
        "\n",
        "# Run the second-stage regression\n",
        "second_stage_uncorrected = smf.ols(second_stage_formula_uncorrected, data=df).fit()\n"
      ],
      "metadata": {
        "id": "iXNgZtjWUM0w"
      },
      "execution_count": 115,
      "outputs": []
    },
    {
      "cell_type": "markdown",
      "source": [
        "##### Displaying Table 1:B"
      ],
      "metadata": {
        "id": "tvt9cIu_qxJg"
      }
    },
    {
      "cell_type": "code",
      "source": [
        "stargazer = Stargazer([first_stage, second_stage_corrected, second_stage_uncorrected])\n",
        "\n",
        "# Customize the output as needed\n",
        "stargazer.covariate_order(['Intercept', 'high_intensity', 'length_conflict_news_pred'])\n",
        "stargazer.title(\"Regression Results\")\n",
        "stargazer.custom_columns([\"Length of Conflict News [2SLS 1st stage]\", \"Corrected News Pressure [2SLS 2nd stage]\", \"Uncorrected News Pressure [2SLS 2nd stage]\"], [1, 1, 1])\n",
        "\n",
        "stargazer"
      ],
      "metadata": {
        "colab": {
          "base_uri": "https://localhost:8080/",
          "height": 380
        },
        "id": "KSKJ4sx3VCVu",
        "outputId": "32face63-520d-4d70-f842-4081ceb52f89"
      },
      "execution_count": 127,
      "outputs": [
        {
          "output_type": "execute_result",
          "data": {
            "text/plain": [
              "<stargazer.stargazer.Stargazer at 0x79461f40b760>"
            ],
            "text/html": [
              "Regression Results<br><table style=\"text-align:center\"><tr><td colspan=\"4\" style=\"border-bottom: 1px solid black\"></td></tr>\n",
              "<tr><td style=\"text-align:left\"></td><tr><td></td><td colspan=\"1\">Length of Conflict News [2SLS 1st stage]</td><td colspan=\"1\">Corrected News Pressure [2SLS 2nd stage]</td><td colspan=\"1\">Uncorrected News Pressure [2SLS 2nd stage]</td></tr><tr><td style=\"text-align:left\"></td><td>(1)</td><td>(2)</td><td>(3)</td></tr>\n",
              "<tr><td colspan=\"4\" style=\"border-bottom: 1px solid black\"></td></tr>\n",
              "\n",
              "<tr><td style=\"text-align:left\">Intercept</td><td>-2.870<sup>***</sup></td><td>1.141<sup>***</sup></td><td>1.129<sup>***</sup></td></tr>\n",
              "<tr><td style=\"text-align:left\"></td><td>(0.494)</td><td>(0.039)</td><td>(0.040)</td></tr>\n",
              "<tr><td style=\"text-align:left\">high_intensity</td><td>5.291<sup>***</sup></td><td></td><td></td></tr>\n",
              "<tr><td style=\"text-align:left\"></td><td>(0.247)</td><td></td><td></td></tr>\n",
              "<tr><td style=\"text-align:left\">length_conflict_news_pred</td><td></td><td>0.000<sup></sup></td><td>-0.018<sup>***</sup></td></tr>\n",
              "<tr><td style=\"text-align:left\"></td><td></td><td>(0.004)</td><td>(0.004)</td></tr>\n",
              "\n",
              "<td colspan=\"4\" style=\"border-bottom: 1px solid black\"></td></tr>\n",
              "<tr><td style=\"text-align: left\">Observations</td><td>2331</td><td>2331</td><td>2331</td></tr><tr><td style=\"text-align: left\">R<sup>2</sup></td><td>0.295</td><td>0.133</td><td>0.156</td></tr><tr><td style=\"text-align: left\">Adjusted R<sup>2</sup></td><td>0.286</td><td>0.123</td><td>0.145</td></tr><tr><td style=\"text-align: left\">Residual Std. Error</td><td>2.695 (df=2301)</td><td>0.249 (df=2301)</td><td>0.253 (df=2301)</td></tr><tr><td style=\"text-align: left\">F Statistic</td><td>33.149<sup>***</sup> (df=29; 2301)</td><td>12.219<sup>***</sup> (df=29; 2301)</td><td>14.681<sup>***</sup> (df=29; 2301)</td></tr>\n",
              "<tr><td colspan=\"4\" style=\"border-bottom: 1px solid black\"></td></tr><tr><td style=\"text-align: left\">Note:</td><td colspan=\"3\" style=\"text-align: right\"><sup>*</sup>p&lt;0.1; <sup>**</sup>p&lt;0.05; <sup>***</sup>p&lt;0.01</td></tr></table>"
            ]
          },
          "metadata": {},
          "execution_count": 127
        }
      ]
    },
    {
      "cell_type": "markdown",
      "source": [
        "## Table 2"
      ],
      "metadata": {
        "id": "fVokEUzkZcnA"
      }
    },
    {
      "cell_type": "markdown",
      "source": [
        "### Stata code"
      ],
      "metadata": {
        "id": "bJr7hYzaZf90"
      }
    },
    {
      "cell_type": "code",
      "source": [
        "'''\n",
        "************************************************************************\n",
        "** Table 2. Coverage of Conflict, News Pressure, and Google Searches\n",
        "************************************************************************\n",
        "\n",
        "use \"$dta/replication_file1.dta\", clear\n",
        "\n",
        "eststo: xi: reg any_conflict_news occurrence_t_y occurrence_pal_t_y i.month i.year i.dow , cluster(monthyear)\n",
        "outreg2 using \"$tables/table_2.xls\", replace ctitle(\"Isr-Pal on news\") keep(occurrence_t_y occurrence_pal_t_y) nocons label bdec(3)\n",
        "\n",
        "eststo: xi: nbreg length_conflict_news occurrence_t_y occurrence_pal_t_y i.month i.year i.dow , vce(cluster monthyear)\n",
        "outreg2 using \"$tables/table_2.xls\", append ctitle(\"Time to Isr-Pal news\") keep(occurrence_t_y occurrence_pal_t_y) nocons label bdec(3)\n",
        "\n",
        "eststo: xi: reg any_conflict_news lnvic_t_y lnvic_pal_y daily_woi i.month i.year i.dow if  (occurrence_t_y==1 | occurrence_pal_t_y ==1), cluster(monthyear)\n",
        "outreg2 using \"$tables/table_2.xls\", append ctitle(\"Isr-Pal on news\") keep(lnvic_t_y lnvic_pal_y daily_woi) nocons label bdec(3)\n",
        "\n",
        "eststo: xi: nbreg length_conflict_news lnvic_t_y lnvic_pal_y daily_woi i.month i.year i.dow if  (occurrence_t_y==1 | occurrence_pal_t_y ==1), vce(cluster monthyear)\n",
        "outreg2 using \"$tables/table_2.xls\", append ctitle(\"Time to Isr-Pal news\") keep(lnvic_t_y lnvic_pal_y daily_woi) nocons label bdec(3)\n",
        "\n",
        "xi: newey conflict_searches lnvic_t_y lnvic_pal_y monthyear i.month i.year i.dow  if length_conflict_news_t_t_1!=., lag(7) force\n",
        "outreg2 using \"$tables/table_2.xls\", append stats(coef se) keep(lnvic_t_y lnvic_pal_y) nocons label bdec(3)\n",
        "\n",
        "xi: newey conflict_searches lnvic_t_y lnvic_pal_y length_conflict_news_t_t_1  monthyear i.month i.year i.dow  , lag(7) force\n",
        "outreg2 using \"$tables/table_2.xls\", append stats(coef se) keep(lnvic_t_y lnvic_pal_y length_conflict_news_t_t_1) nocons label bdec(3) sdec(3)\n",
        "\n",
        "* Corresponding OLS regressions estimated below to display R-squared\n",
        "eststo: xi: reg conflict_searches lnvic_t_y lnvic_pal_y monthyear i.month i.year i.dow if length_conflict_news_t_t_1!=., vce(cluster monthyear)\n",
        "eststo: xi: reg conflict_searches lnvic_t_y lnvic_pal_y length_conflict_news_t_t_1 monthyear i.month i.year i.dow , vce(cluster monthyear)\n",
        "esttab, se pr2 r2 star(* 0.1 ** 0.05 *** 0.01)\n",
        "'''"
      ],
      "metadata": {
        "colab": {
          "base_uri": "https://localhost:8080/",
          "height": 154
        },
        "id": "MgG8nlMcZa7P",
        "outputId": "2d53d4da-2025-4cd4-c33f-2db0d81c4fe1"
      },
      "execution_count": 117,
      "outputs": [
        {
          "output_type": "execute_result",
          "data": {
            "text/plain": [
              "'\\n************************************************************************\\n** Table 2. Coverage of Conflict, News Pressure, and Google Searches\\n************************************************************************\\n\\nuse \"$dta/replication_file1.dta\", clear\\n\\neststo: xi: reg any_conflict_news occurrence_t_y occurrence_pal_t_y i.month i.year i.dow , cluster(monthyear)\\noutreg2 using \"$tables/table_2.xls\", replace ctitle(\"Isr-Pal on news\") keep(occurrence_t_y occurrence_pal_t_y) nocons label bdec(3)\\n\\neststo: xi: nbreg length_conflict_news occurrence_t_y occurrence_pal_t_y i.month i.year i.dow , vce(cluster monthyear)\\noutreg2 using \"$tables/table_2.xls\", append ctitle(\"Time to Isr-Pal news\") keep(occurrence_t_y occurrence_pal_t_y) nocons label bdec(3)\\n\\neststo: xi: reg any_conflict_news lnvic_t_y lnvic_pal_y daily_woi i.month i.year i.dow if  (occurrence_t_y==1 | occurrence_pal_t_y ==1), cluster(monthyear)\\noutreg2 using \"$tables/table_2.xls\", append ctitle(\"Isr-Pal on news\") keep(lnvic_t_y lnvic_pal_y daily_woi) nocons label bdec(3)\\n\\neststo: xi: nbreg length_conflict_news lnvic_t_y lnvic_pal_y daily_woi i.month i.year i.dow if  (occurrence_t_y==1 | occurrence_pal_t_y ==1), vce(cluster monthyear)\\noutreg2 using \"$tables/table_2.xls\", append ctitle(\"Time to Isr-Pal news\") keep(lnvic_t_y lnvic_pal_y daily_woi) nocons label bdec(3)\\n\\nxi: newey conflict_searches lnvic_t_y lnvic_pal_y monthyear i.month i.year i.dow  if length_conflict_news_t_t_1!=., lag(7) force\\noutreg2 using \"$tables/table_2.xls\", append stats(coef se) keep(lnvic_t_y lnvic_pal_y) nocons label bdec(3)\\n\\nxi: newey conflict_searches lnvic_t_y lnvic_pal_y length_conflict_news_t_t_1  monthyear i.month i.year i.dow  , lag(7) force\\noutreg2 using \"$tables/table_2.xls\", append stats(coef se) keep(lnvic_t_y lnvic_pal_y length_conflict_news_t_t_1) nocons label bdec(3) sdec(3)\\n\\n* Corresponding OLS regressions estimated below to display R-squared\\neststo: xi: reg conflict_searches lnvic_t_y lnvic_pal_y monthyear i.month i.year i.dow if length_conflict_news_t_t_1!=., vce(cluster monthyear)\\neststo: xi: reg conflict_searches lnvic_t_y lnvic_pal_y length_conflict_news_t_t_1 monthyear i.month i.year i.dow , vce(cluster monthyear)\\nesttab, se pr2 r2 star(* 0.1 ** 0.05 *** 0.01)\\n'"
            ],
            "application/vnd.google.colaboratory.intrinsic+json": {
              "type": "string"
            }
          },
          "metadata": {},
          "execution_count": 117
        }
      ]
    },
    {
      "cell_type": "markdown",
      "source": [
        "### Python code"
      ],
      "metadata": {
        "id": "hURl6DDIaUXt"
      }
    },
    {
      "cell_type": "markdown",
      "source": [
        "##### Creating the models"
      ],
      "metadata": {
        "id": "3H3c64LOqQDi"
      }
    },
    {
      "cell_type": "code",
      "source": [
        "data_table_2 = replication_file1.copy()\n",
        "relevant_columns = ['any_conflict_news', 'length_conflict_news', 'month', 'year', 'dow', 'monthyear', 'occurrence_t_y', 'occurrence_pal_t_y' ]\n",
        "data_table_2 = data_table_2[relevant_columns].dropna()\n",
        "\n",
        "\n",
        "data = data_table_2.copy()\n",
        "\n",
        "\n",
        "# First column\n",
        "# Adding interaction terms for categorical variables like i.month, i.year, and i.dow\n",
        "data['month'] = data['month'].astype('category')\n",
        "data['year'] = data['year'].astype('category')\n",
        "data['dow'] = data['dow'].astype('category')\n",
        "\n",
        "# Defining the regression formula\n",
        "formula = \"any_conflict_news ~ occurrence_t_y + occurrence_pal_t_y + C(month) + C(year) + C(dow)\"\n",
        "\n",
        "# Running the regression with clustering on 'monthyear'\n",
        "model_1 = smf.ols(formula, data=data).fit(cov_type='cluster', cov_kwds={'groups': data['monthyear']})"
      ],
      "metadata": {
        "id": "uA4F6mOOaT4B"
      },
      "execution_count": 135,
      "outputs": []
    },
    {
      "cell_type": "code",
      "source": [
        "# Second column\n",
        "# Specify that the month, year, and dow variables are categorical\n",
        "data['month'] = data['month'].astype('category')\n",
        "data['year'] = data['year'].astype('category')\n",
        "data['dow'] = data['dow'].astype('category')\n",
        "\n",
        "# Define the regression formula\n",
        "formula = \"length_conflict_news ~ occurrence_t_y + occurrence_pal_t_y + C(month) + C(year) + C(dow)\"\n",
        "\n",
        "# Fit the negative binomial regression model\n",
        "model_2 = smf.negativebinomial(formula, data=data).fit(cov_type='cluster', cov_kwds={'groups': data['monthyear']})"
      ],
      "metadata": {
        "colab": {
          "base_uri": "https://localhost:8080/"
        },
        "id": "z31xFo7_gkcT",
        "outputId": "63f4a115-c5cb-4119-828f-6013652a0e87"
      },
      "execution_count": 136,
      "outputs": [
        {
          "output_type": "stream",
          "name": "stderr",
          "text": [
            "/usr/local/lib/python3.10/dist-packages/scipy/optimize/_optimize.py:1292: OptimizeWarning: Maximum number of iterations has been exceeded.\n",
            "  res = _minimize_bfgs(f, x0, args, fprime, callback=callback, **opts)\n",
            "/usr/local/lib/python3.10/dist-packages/statsmodels/base/model.py:607: ConvergenceWarning: Maximum Likelihood optimization failed to converge. Check mle_retvals\n",
            "  warnings.warn(\"Maximum Likelihood optimization failed to \"\n"
          ]
        },
        {
          "output_type": "stream",
          "name": "stdout",
          "text": [
            "         Current function value: 0.758654\n",
            "         Iterations: 35\n",
            "         Function evaluations: 41\n",
            "         Gradient evaluations: 41\n"
          ]
        }
      ]
    },
    {
      "cell_type": "code",
      "source": [
        "# Third column\n",
        "\n",
        "data_table_2 = replication_file1.copy()\n",
        "relevant_columns = ['any_conflict_news', 'daily_woi', 'lnvic_pal_y', 'lnvic_t_y', 'length_conflict_news', 'month', 'year', 'dow', 'monthyear', 'occurrence_t_y', 'occurrence_pal_t_y' ]\n",
        "data_table_2 = data_table_2[relevant_columns].dropna()\n",
        "\n",
        "data = data_table_2.copy()\n",
        "\n",
        "# Filter the data for the specified condition\n",
        "filtered_data = data[(data['occurrence_t_y'] == 1) | (data['occurrence_pal_t_y'] == 1)].copy()\n",
        "\n",
        "# Ensure categorical variables for month, year, and day of the week\n",
        "filtered_data['month'] = filtered_data['month'].astype('category')\n",
        "filtered_data['year'] = filtered_data['year'].astype('category')\n",
        "filtered_data['dow'] = filtered_data['dow'].astype('category')\n",
        "\n",
        "# Define the regression formula\n",
        "formula = \"any_conflict_news ~ lnvic_t_y + lnvic_pal_y + daily_woi + C(month) + C(year) + C(dow)\"\n",
        "\n",
        "# Fit the linear regression model with clustered standard errors\n",
        "model_3 = smf.ols(formula, data=filtered_data).fit(cov_type='cluster', cov_kwds={'groups': filtered_data['monthyear']})"
      ],
      "metadata": {
        "id": "84Oeg1D8ZlxH"
      },
      "execution_count": 137,
      "outputs": []
    },
    {
      "cell_type": "code",
      "source": [
        "data_table_2 = replication_file1.copy()\n",
        "relevant_columns = ['any_conflict_news', 'daily_woi', 'lnvic_pal_y', 'lnvic_t_y', 'length_conflict_news', 'month', 'year', 'dow', 'monthyear', 'occurrence_t_y', 'occurrence_pal_t_y' ]\n",
        "data_table_2 = data_table_2[relevant_columns].dropna()\n",
        "\n",
        "data = data_table_2.copy()\n",
        "\n",
        "# Filter the data for the specified condition\n",
        "filtered_data = data[(data['occurrence_t_y'] == 1) | (data['occurrence_pal_t_y'] == 1)].copy()\n",
        "\n",
        "# Ensure categorical variables for month, year, and day of the week\n",
        "filtered_data['month'] = filtered_data['month'].astype('category')\n",
        "filtered_data['year'] = filtered_data['year'].astype('category')\n",
        "filtered_data['dow'] = filtered_data['dow'].astype('category')\n",
        "\n",
        "# Define the regression formula\n",
        "formula = \"length_conflict_news ~ lnvic_t_y + lnvic_pal_y + daily_woi + C(month) + C(year) + C(dow)\"\n",
        "\n",
        "# Fit the negative binomial regression model with clustered standard errors\n",
        "model_4 = smf.negativebinomial(formula, data=filtered_data).fit(cov_type='cluster', cov_kwds={'groups': filtered_data['monthyear']})"
      ],
      "metadata": {
        "colab": {
          "base_uri": "https://localhost:8080/"
        },
        "id": "GitoWn8QfUQp",
        "outputId": "b5b304b2-1a45-4d01-aa54-e6dc6f8eb1cd"
      },
      "execution_count": 138,
      "outputs": [
        {
          "output_type": "stream",
          "name": "stderr",
          "text": [
            "/usr/local/lib/python3.10/dist-packages/scipy/optimize/_optimize.py:1292: OptimizeWarning: Maximum number of iterations has been exceeded.\n",
            "  res = _minimize_bfgs(f, x0, args, fprime, callback=callback, **opts)\n",
            "/usr/local/lib/python3.10/dist-packages/statsmodels/base/model.py:607: ConvergenceWarning: Maximum Likelihood optimization failed to converge. Check mle_retvals\n",
            "  warnings.warn(\"Maximum Likelihood optimization failed to \"\n"
          ]
        },
        {
          "output_type": "stream",
          "name": "stdout",
          "text": [
            "         Current function value: 1.011429\n",
            "         Iterations: 35\n",
            "         Function evaluations: 64\n",
            "         Gradient evaluations: 64\n"
          ]
        }
      ]
    },
    {
      "cell_type": "code",
      "source": [
        "data_table_2 = replication_file1.copy()\n",
        "relevant_columns = ['length_conflict_news_t_t_1', 'conflict_searches', 'lnvic_pal_y', 'lnvic_t_y',  'month', 'year', 'dow', 'monthyear' ]\n",
        "data_table_2 = data_table_2[relevant_columns].dropna()\n",
        "\n",
        "data = data_table_2.copy()\n",
        "\n",
        "# Filter the data for the specified condition\n",
        "filtered_data = data[data['length_conflict_news_t_t_1'].notnull()]\n",
        "\n",
        "# Ensure categorical variables for month, year, and day of the week\n",
        "filtered_data['month'] = filtered_data['month'].astype('category')\n",
        "filtered_data['year'] = filtered_data['year'].astype('category')\n",
        "filtered_data['dow'] = filtered_data['dow'].astype('category')\n",
        "\n",
        "# Define the regression formula\n",
        "formula = \"conflict_searches ~ lnvic_t_y + lnvic_pal_y + monthyear + C(month) + C(year) + C(dow)\"\n",
        "\n",
        "# Fit the linear regression model with HAC standard errors (lag=7)\n",
        "model_5 = smf.ols(formula, data=filtered_data).fit(cov_type='HAC', cov_kwds={'maxlags': 7})"
      ],
      "metadata": {
        "id": "dpkzVttqhTfP"
      },
      "execution_count": 139,
      "outputs": []
    },
    {
      "cell_type": "code",
      "source": [
        "import statsmodels.formula.api as smf\n",
        "\n",
        "# Ensure categorical variables for month, year, and day of the week\n",
        "data['month'] = data['month'].astype('category')\n",
        "data['year'] = data['year'].astype('category')\n",
        "data['dow'] = data['dow'].astype('category')\n",
        "\n",
        "# Define the regression formula\n",
        "formula = \"conflict_searches ~ lnvic_t_y + lnvic_pal_y + length_conflict_news_t_t_1 + monthyear + C(month) + C(year) + C(dow)\"\n",
        "\n",
        "# Fit the linear regression model with HAC standard errors (lag=7)\n",
        "model_6 = smf.ols(formula, data=data).fit(cov_type='HAC', cov_kwds={'maxlags': 7})"
      ],
      "metadata": {
        "id": "piIPID5Lh_82"
      },
      "execution_count": 140,
      "outputs": []
    },
    {
      "cell_type": "markdown",
      "source": [
        "#### Displaying Table 2"
      ],
      "metadata": {
        "id": "FU-OQMHhqUlp"
      }
    },
    {
      "cell_type": "code",
      "source": [
        "# @title\n",
        "stargazer = Stargazer([model_1, model_2, model_3, model_4, model_5, model_6])\n",
        "\n",
        "# Customize the output as needed\n",
        "stargazer.title(\"Regression Results\")\n",
        "stargazer.covariate_order(['occurrence_t_y', 'occurrence_pal_t_y', 'daily_woi', 'lnvic_t_y', 'lnvic_pal_y', 'length_conflict_news_t_t_1'])\n",
        "stargazer.custom_columns([\"Any news (OLS) - all days - 2000-11\", \"Length news (bin) - all days - 2000-11\", \"Any news (OLS) - t/t-1 - 2000-11\", \"Length news (bin) - t/t-1 - 2000-11\", \"Searches (OLS) - all days - 2004-11\", \"Searches (OLS) - all days - 2004-11\"], [1, 1, 1, 1 ,1, 1])\n",
        "\n",
        "stargazer"
      ],
      "metadata": {
        "colab": {
          "base_uri": "https://localhost:8080/",
          "height": 575
        },
        "cellView": "form",
        "id": "OhTCsLQ7i9Lo",
        "outputId": "5031b573-c872-49f6-df9c-d1fa14005229"
      },
      "execution_count": 141,
      "outputs": [
        {
          "output_type": "execute_result",
          "data": {
            "text/plain": [
              "<stargazer.stargazer.Stargazer at 0x794620cdbca0>"
            ],
            "text/html": [
              "Regression Results<br><table style=\"text-align:center\"><tr><td colspan=\"7\" style=\"border-bottom: 1px solid black\"></td></tr>\n",
              "<tr><td style=\"text-align:left\"></td><tr><td></td><td colspan=\"1\">Any news (OLS) - all days - 2000-11</td><td colspan=\"1\">Length news (bin) - all days - 2000-11</td><td colspan=\"1\">Any news (OLS) - t/t-1 - 2000-11</td><td colspan=\"1\">Length news (bin) - t/t-1 - 2000-11</td><td colspan=\"1\">Searches (OLS) - all days - 2004-11</td><td colspan=\"1\">Searches (OLS) - all days - 2004-11</td></tr><tr><td style=\"text-align:left\"></td><td>(1)</td><td>(2)</td><td>(3)</td><td>(4)</td><td>(5)</td><td>(6)</td></tr>\n",
              "<tr><td colspan=\"7\" style=\"border-bottom: 1px solid black\"></td></tr>\n",
              "\n",
              "<tr><td style=\"text-align:left\">occurrence_t_y</td><td>0.100<sup>***</sup></td><td>0.985<sup>***</sup></td><td></td><td></td><td></td><td></td></tr>\n",
              "<tr><td style=\"text-align:left\"></td><td>(0.020)</td><td>(0.183)</td><td></td><td></td><td></td><td></td></tr>\n",
              "<tr><td style=\"text-align:left\">occurrence_pal_t_y</td><td>0.112<sup>***</sup></td><td>0.689<sup>***</sup></td><td></td><td></td><td></td><td></td></tr>\n",
              "<tr><td style=\"text-align:left\"></td><td>(0.032)</td><td>(0.139)</td><td></td><td></td><td></td><td></td></tr>\n",
              "<tr><td style=\"text-align:left\">daily_woi</td><td></td><td></td><td>-0.078<sup>*</sup></td><td>-0.661<sup>***</sup></td><td></td><td></td></tr>\n",
              "<tr><td style=\"text-align:left\"></td><td></td><td></td><td>(0.042)</td><td>(0.256)</td><td></td><td></td></tr>\n",
              "<tr><td style=\"text-align:left\">lnvic_t_y</td><td></td><td></td><td>0.169<sup>***</sup></td><td>0.796<sup>***</sup></td><td>0.130<sup>***</sup></td><td>0.053<sup>*</sup></td></tr>\n",
              "<tr><td style=\"text-align:left\"></td><td></td><td></td><td>(0.016)</td><td>(0.090)</td><td>(0.043)</td><td>(0.028)</td></tr>\n",
              "<tr><td style=\"text-align:left\">lnvic_pal_y</td><td></td><td></td><td>0.134<sup>***</sup></td><td>0.581<sup>***</sup></td><td>0.042<sup></sup></td><td>0.005<sup></sup></td></tr>\n",
              "<tr><td style=\"text-align:left\"></td><td></td><td></td><td>(0.024)</td><td>(0.099)</td><td>(0.059)</td><td>(0.054)</td></tr>\n",
              "<tr><td style=\"text-align:left\">length_conflict_news_t_t_1</td><td></td><td></td><td></td><td></td><td></td><td>0.137<sup>***</sup></td></tr>\n",
              "<tr><td style=\"text-align:left\"></td><td></td><td></td><td></td><td></td><td></td><td>(0.016)</td></tr>\n",
              "\n",
              "<td colspan=\"7\" style=\"border-bottom: 1px solid black\"></td></tr>\n",
              "<tr><td style=\"text-align: left\">Observations</td><td>4005</td><td>4005</td><td>2331</td><td>2331</td><td>2741</td><td>2741</td></tr><tr><td style=\"text-align: left\">R<sup>2</sup></td><td>0.228</td><td></td><td>0.292</td><td></td><td>0.330</td><td>0.376</td></tr><tr><td style=\"text-align: left\">Adjusted R<sup>2</sup></td><td>0.222</td><td></td><td>0.283</td><td></td><td>0.323</td><td>0.370</td></tr><tr><td style=\"text-align: left\">Pseudo R<sup>2</sup></td><td></td><td>0.101</td><td></td><td>0.120</td><td></td><td></td></tr><tr><td style=\"text-align: left\">Residual Std. Error</td><td>0.340 (df=3974)</td><td>2.384 (df=3974)</td><td>0.376 (df=2299)</td><td>2.754 (df=2299)</td><td>0.554 (df=2714)</td><td>0.534 (df=2713)</td></tr><tr><td style=\"text-align: left\">F Statistic</td><td>13.196<sup>***</sup> (df=30; 3974)</td><td></td><td>30.134<sup>***</sup> (df=31; 2299)</td><td></td><td>1359.532<sup>***</sup> (df=26; 2714)</td><td>1484.223<sup>***</sup> (df=27; 2713)</td></tr>\n",
              "<tr><td colspan=\"7\" style=\"border-bottom: 1px solid black\"></td></tr><tr><td style=\"text-align: left\">Note:</td><td colspan=\"6\" style=\"text-align: right\"><sup>*</sup>p&lt;0.1; <sup>**</sup>p&lt;0.05; <sup>***</sup>p&lt;0.01</td></tr></table>"
            ]
          },
          "metadata": {},
          "execution_count": 141
        }
      ]
    }
  ]
}